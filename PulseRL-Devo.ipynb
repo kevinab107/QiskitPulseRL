{
 "cells": [
  {
   "cell_type": "code",
   "execution_count": null,
   "id": "9499b7ce",
   "metadata": {},
   "outputs": [],
   "source": [
    "# Install the dependancies\n",
    "!pip install tensorflow\n",
    "!pip install -q tf-agents\n",
    "!pip install qiskit \n",
    "!pip install numpy"
   ]
  },
  {
   "cell_type": "code",
   "execution_count": null,
   "id": "264bf1cf",
   "metadata": {},
   "outputs": [],
   "source": [
    "!pip3 uninstall protobuf --yes\n",
    "!pip3 uninstall python-protobuf --yes\n",
    "!pip install protobuf \n"
   ]
  },
  {
   "cell_type": "markdown",
   "id": "63441c23",
   "metadata": {},
   "source": [
    "# TRAINING "
   ]
  },
  {
   "cell_type": "code",
   "execution_count": 7,
   "id": "197e922f",
   "metadata": {},
   "outputs": [
    {
     "name": "stdout",
     "output_type": "stream",
     "text": [
      "0 tf.Tensor([ 9.9240857e-01 -3.9653711e-05  1.2153212e-01  1.8847153e-02], shape=(4,), dtype=float32) tf.Tensor([0.01512527], shape=(1,), dtype=float32)\n",
      "1 tf.Tensor([ 9.9240857e-01 -3.9653711e-05  1.2153212e-01  1.8847153e-02], shape=(4,), dtype=float32) tf.Tensor([0.01512527], shape=(1,), dtype=float32)\n",
      "2 tf.Tensor([ 9.9240857e-01 -3.9653711e-05  1.2153212e-01  1.8847153e-02], shape=(4,), dtype=float32) tf.Tensor([0.01512527], shape=(1,), dtype=float32)\n",
      "3 tf.Tensor([ 9.9240857e-01 -3.9653711e-05  1.2153212e-01  1.8847153e-02], shape=(4,), dtype=float32) tf.Tensor([0.01512527], shape=(1,), dtype=float32)\n",
      "4 tf.Tensor([ 9.9240857e-01 -3.9653711e-05  1.2153212e-01  1.8847153e-02], shape=(4,), dtype=float32) tf.Tensor([0.01512527], shape=(1,), dtype=float32)\n",
      "5 tf.Tensor([ 9.9240857e-01 -3.9653711e-05  1.2153212e-01  1.8847153e-02], shape=(4,), dtype=float32) tf.Tensor([0.01512527], shape=(1,), dtype=float32)\n",
      "6 tf.Tensor([ 9.9240857e-01 -3.9653711e-05  1.2153212e-01  1.8847153e-02], shape=(4,), dtype=float32) tf.Tensor([0.01512527], shape=(1,), dtype=float32)\n",
      "7 tf.Tensor([ 9.9240857e-01 -3.9653711e-05  1.2153212e-01  1.8847153e-02], shape=(4,), dtype=float32) tf.Tensor([0.01512527], shape=(1,), dtype=float32)\n",
      "8 tf.Tensor([ 9.9240857e-01 -3.9653711e-05  1.2153212e-01  1.8847153e-02], shape=(4,), dtype=float32) tf.Tensor([0.01512527], shape=(1,), dtype=float32)\n",
      "9 tf.Tensor([ 9.9240857e-01 -3.9653711e-05  1.2153212e-01  1.8847153e-02], shape=(4,), dtype=float32) tf.Tensor([0.01512527], shape=(1,), dtype=float32)\n",
      "10\n",
      "0 tf.Tensor([ 9.5750147e-01 -9.3763323e-05 -2.8269672e-01 -5.7214405e-02], shape=(4,), dtype=float32) tf.Tensor([0.08319092], shape=(1,), dtype=float32)\n",
      "1 tf.Tensor([ 9.5750147e-01 -9.3763323e-05 -2.8269672e-01 -5.7214405e-02], shape=(4,), dtype=float32) tf.Tensor([0.08319092], shape=(1,), dtype=float32)\n",
      "2\n",
      "step = 5: Average Return = 0.08319091796875\n",
      "0 tf.Tensor([ 4.4712651e-01 -1.3564536e-04 -3.1778187e-01  8.3611757e-01], shape=(4,), dtype=float32) tf.Tensor([0.80007786], shape=(1,), dtype=float32)\n",
      "1 tf.Tensor([ 4.4712651e-01 -1.3564536e-04 -3.1778187e-01  8.3611757e-01], shape=(4,), dtype=float32) tf.Tensor([0.80007786], shape=(1,), dtype=float32)\n",
      "2\n",
      "step = 10: Average Return = 0.8000778555870056\n"
     ]
    }
   ],
   "source": [
    "from environment import QiskitEnv\n",
    "import numpy as np\n",
    "from tf_agents.environments import tf_py_environment\n",
    "from agent import Agent\n",
    "from qiskit.visualization import plot_bloch_multivector\n",
    "import matplotlib as plt\n",
    "\n",
    "# Learning Parameters\n",
    "num_iterations = 10 \n",
    "\n",
    "#In an iteration multiple episodes are collected together and a trajectory is built out of it.\n",
    "#Later these trajectory is used for learning. Trajectory is added to a replay buffer and analysed together.\n",
    "collect_episodes_per_iteration = 250  #\n",
    "replay_buffer_capacity = 2000  \n",
    "\n",
    "\n",
    "learning_rate = 1e-3  \n",
    "num_eval_episodes = 2  \n",
    "eval_interval = 5  \n",
    "\n",
    "\n",
    "\"\"\"Environemnt which make use of Qiskit Pulse Simulator and pulse builder to simulate \n",
    "the dynamics of a qubit under the influence of a pulse. The RL agent interact with this \n",
    "environment through action defined as pulse lenght. Here a constant pulse of amplitude 1 \n",
    "is used and applied for a time \"pulse width\". \"pulse width\" is the action that the agent \n",
    "takes here. The agent observes the state obtained with the action along with the Fidelity \n",
    "to the expected final state. Here initial state is fixed to |0> and target state is |1>\n",
    "\n",
    "The pulse is designed as follows\n",
    "  constant pulse of amplitude 1 for \"pulse width\" time\n",
    "  delay the mesearement channel for \"pulse width\" + 10 time and make mesurement.\n",
    "TODO: Make the environement more gernect to handle different operators and initial states\"\"\"\n",
    "environment =  QiskitEnv(np.array([1,0]),1)\n",
    "\n",
    "#convert the python environment to tensorflow compactible format for training.\n",
    "tf_dumm = tf_py_environment.TFPyEnvironment(environment)\n",
    "\"\"\"Get the reinfoce agent. Reward is the fielily to target state. Observation is the state\"\"\"\n",
    "agent = Agent(num_iterations,collect_episodes_per_iteration,replay_buffer_capacity,learning_rate,num_eval_episodes,eval_interval)\n",
    "agent_reinforce = agent.get_agent(environment, 'reinforce', \"without_noise_trained\")\n",
    "train_results = agent.train(tf_dumm, agent_reinforce)"
   ]
  },
  {
   "cell_type": "markdown",
   "id": "51e75002",
   "metadata": {},
   "source": [
    "# Evaluation"
   ]
  },
  {
   "cell_type": "code",
   "execution_count": 8,
   "id": "04e58481",
   "metadata": {},
   "outputs": [
    {
     "name": "stdout",
     "output_type": "stream",
     "text": [
      "Fidelity :  0.8000778697373062\n",
      "Pulse lenght tf.Tensor([[157]], shape=(1, 1), dtype=int64)\n",
      "Training avergae return vs step\n"
     ]
    },
    {
     "data": {
      "text/plain": [
       "[<matplotlib.lines.Line2D at 0x7fbd3d2e1910>]"
      ]
     },
     "execution_count": 8,
     "metadata": {},
     "output_type": "execute_result"
    },
    {
     "data": {
      "image/png": "[encoded data removed]",
      "text/plain": [
       "<Figure size 432x288 with 1 Axes>"
      ]
     },
     "metadata": {
      "needs_background": "light"
     },
     "output_type": "display_data"
    }
   ],
   "source": [
    "env_test = QiskitEnv(np.array([0,1]),2)\n",
    "action,fid,vector = agent.evaluate(agent_reinforce, env_test)\n",
    "print(\"Fidelity : \", fid)\n",
    "print(\"Pulse lenght\",action)\n",
    "plot_bloch_multivector(vector)\n",
    "print(\"Training avergae return vs step\")\n",
    "plt.pyplot.plot(train_results[2])"
   ]
  },
  {
   "cell_type": "markdown",
   "id": "ac7b2ab6",
   "metadata": {},
   "source": [
    "# Load Best Policy"
   ]
  },
  {
   "cell_type": "code",
   "execution_count": 9,
   "id": "825b2336",
   "metadata": {},
   "outputs": [
    {
     "name": "stdout",
     "output_type": "stream",
     "text": [
      "\n",
      "\n",
      "\n",
      "\n",
      "Pulse length :  662\n",
      "Showing the results of the best policy\n",
      "Fidelity :  0.9983102421554901\n",
      "Initial State:  [1, 0]\n",
      "Final State:  [-0.04110653-1.05800837e-04j  0.92107419+3.87211285e-01j]\n",
      "\n",
      "\n",
      "\n"
     ]
    },
    {
     "name": "stderr",
     "output_type": "stream",
     "text": [
      "2021-10-23 15:27:43.300376: W tensorflow/compiler/mlir/lite/python/tf_tfl_flatbuffer_helpers.cc:351] Ignored output_format.\n",
      "2021-10-23 15:27:43.300396: W tensorflow/compiler/mlir/lite/python/tf_tfl_flatbuffer_helpers.cc:354] Ignored drop_control_dependency.\n",
      "2021-10-23 15:27:43.300400: W tensorflow/compiler/mlir/lite/python/tf_tfl_flatbuffer_helpers.cc:360] Ignored change_concat_input_ranges.\n",
      "2021-10-23 15:27:43.301241: I tensorflow/cc/saved_model/reader.cc:38] Reading SavedModel from: best_policy\n",
      "2021-10-23 15:27:43.302287: I tensorflow/cc/saved_model/reader.cc:90] Reading meta graph with tags { serve }\n",
      "2021-10-23 15:27:43.302298: I tensorflow/cc/saved_model/reader.cc:132] Reading SavedModel debug info (if present) from: best_policy\n",
      "2021-10-23 15:27:43.306011: I tensorflow/cc/saved_model/loader.cc:211] Restoring SavedModel bundle.\n",
      "2021-10-23 15:27:43.321595: I tensorflow/cc/saved_model/loader.cc:195] Running initialization op on SavedModel bundle at path: best_policy\n",
      "2021-10-23 15:27:43.327166: I tensorflow/cc/saved_model/loader.cc:283] SavedModel load for tags { serve }; Status: success: OK. Took 25923 microseconds.\n",
      "2021-10-23 15:27:43.341168: I tensorflow/compiler/mlir/tensorflow/utils/dump_mlir_util.cc:210] disabling MLIR crash reproducer, set env var `MLIR_CRASH_REPRODUCER_DIRECTORY` to enable.\n",
      "2021-10-23 15:27:43.372714: W tensorflow/compiler/mlir/lite/flatbuffer_export.cc:1838] TFLite interpreter needs to link Flex delegate in order to run the model since it contains the following flex op(s):\n",
      "Flex ops: FlexBroadcastArgs\n",
      "Details:\n",
      "\ttf.BroadcastArgs(tensor<0xi32>, tensor<2xi32>) -> (tensor<2xi32>) : {device = \"\"}\n",
      "INFO: Initialized TensorFlow Lite runtime.\n",
      "INFO: Created TensorFlow Lite delegate for select TF ops.\n",
      "INFO: TfLiteFlexDelegate delegate: 1 nodes delegated out of 16 nodes with 1 partitions.\n",
      "\n",
      "INFO: Replacing 1 node(s) with delegate (TfLiteFlexDelegate) node, yielding 3 partitions.\n",
      "INFO: FlexDelegate: All tensor shapes are consistent.\n",
      "/Users/kevinabraham/opt/anaconda3/envs/PythonARM/lib/python3.9/site-packages/qiskit/utils/deprecation.py:62: DeprecationWarning: Using a qobj for run() is deprecated as of qiskit-aer 0.9.0 and will be removed no sooner than 3 months from that release date. Transpiled circuits should now be passed directly using `backend.run(circuits, **run_options).\n",
      "  return func(*args, **kwargs)\n",
      "/Users/kevinabraham/opt/anaconda3/envs/PythonARM/lib/python3.9/site-packages/qiskit/providers/aer/pulse/controllers/pulse_controller.py:144: UserWarning: Warning: qubit_lo_freq was not specified in PulseQobj and there is no default, so it is being automatically determined from the drift Hamiltonian.\n",
      "  warn('Warning: qubit_lo_freq was not specified in PulseQobj and there is no default, '\n"
     ]
    }
   ],
   "source": [
    "import tensorflow as tf \n",
    "import numpy as np\n",
    "from tensorflow.saved_model import load\n",
    "from tf_agents import policies\n",
    "from environment import QiskitEnv\n",
    "import warnings\n",
    "import logging, sys\n",
    "def load_best_policy():\n",
    "  policy_dir = \"best_policy\"\n",
    "  # saved_policy = load(policy_dir)\n",
    "  # print(saved_policy.action())\n",
    "  converter = tf.lite.TFLiteConverter.from_saved_model(policy_dir, signature_keys=[\"action\"])\n",
    "  converter.target_spec.supported_ops = [\n",
    "    tf.lite.OpsSet.TFLITE_BUILTINS, # enable TensorFlow Lite ops.\n",
    "    tf.lite.OpsSet.SELECT_TF_OPS # enable TensorFlow ops.\n",
    "  ]\n",
    "  tflite_policy = converter.convert()\n",
    "  with open('policy.tflite', 'wb') as f:\n",
    "    f.write(tflite_policy)\n",
    "\n",
    "\n",
    "  interpreter = tf.lite.Interpreter(\"policy.tflite\")\n",
    "\n",
    "  policy_runner = interpreter.get_signature_runner()\n",
    "\n",
    "  action = policy_runner(**{\n",
    "      '0/discount':tf.constant(0.0),\n",
    "      '0/observation':tf.zeros([1,4]),\n",
    "      '0/reward':tf.constant(0.0),\n",
    "      '0/step_type':tf.constant(0)})[\"action\"][0][0]\n",
    "  \n",
    "  print(\"\\n\\n\\n\\nPulse length : \",action)\n",
    "  print(\"Showing the results of the best policy\")\n",
    "  fid, vector = QiskitEnv.get_state(int(action))\n",
    "  print(\"Fidelity : \",fid)\n",
    "  print(\"Initial State: \", [1,0])\n",
    "  print(\"Final State: \", vector)\n",
    "  print(\"\\n\\n\")\n",
    "\n",
    "load_best_policy()"
   ]
  },
  {
   "cell_type": "code",
   "execution_count": null,
   "id": "b189db7d",
   "metadata": {},
   "outputs": [],
   "source": []
  }
 ],
 "metadata": {
  "kernelspec": {
   "display_name": "Python 3 (ipykernel)",
   "language": "python",
   "name": "python3"
  },
  "language_info": {
   "codemirror_mode": {
    "name": "ipython",
    "version": 3
   },
   "file_extension": ".py",
   "mimetype": "text/x-python",
   "name": "python",
   "nbconvert_exporter": "python",
   "pygments_lexer": "ipython3",
   "version": "3.9.1"
  }
 },
 "nbformat": 4,
 "nbformat_minor": 5
}
